{
  "nbformat": 4,
  "nbformat_minor": 0,
  "metadata": {
    "colab": {
      "provenance": [],
      "authorship_tag": "ABX9TyN6NVsbAGwKpEweU8mHJn89",
      "include_colab_link": true
    },
    "kernelspec": {
      "name": "python3",
      "display_name": "Python 3"
    },
    "language_info": {
      "name": "python"
    }
  },
  "cells": [
    {
      "cell_type": "markdown",
      "metadata": {
        "id": "view-in-github",
        "colab_type": "text"
      },
      "source": [
        "<a href=\"https://colab.research.google.com/github/vvivianeCruz/atividades_praticas_2sem/blob/main/automacao_medias.ipynb\" target=\"_parent\"><img src=\"https://colab.research.google.com/assets/colab-badge.svg\" alt=\"Open In Colab\"/></a>"
      ]
    },
    {
      "cell_type": "code",
      "execution_count": null,
      "metadata": {
        "colab": {
          "base_uri": "https://localhost:8080/"
        },
        "id": "44RHCanu_6gA",
        "outputId": "12a34415-328f-4278-ccce-9b4bec97f347"
      },
      "outputs": [
        {
          "output_type": "stream",
          "name": "stdout",
          "text": [
            "Digite o nome do aluno: Caio\n",
            "Digite a primeira nota: 5\n",
            "Digite a segunda nota: 4\n",
            "Digite a terceira nota: 1\n",
            "Digite a quarta nota: 3\n",
            "Olá Caio, suas notas foram [5, 4, 1, 3], sua média final é 3.25, e você está Reprovado.\n"
          ]
        }
      ],
      "source": [
        "#Identificação dos estudantes\n",
        "nome_aluno = input('Digite o nome do aluno: ')\n",
        "\n",
        "#Lista de notas dos estudantes\n",
        "Nota_1 = int(input('Digite a primeira nota: '))\n",
        "Nota_2 = int(input('Digite a segunda nota: '))\n",
        "Nota_3 = int(input('Digite a terceira nota: '))\n",
        "Nota_4 = int(input('Digite a quarta nota: '))\n",
        "notas = [Nota_1, Nota_2, Nota_3, Nota_4]\n",
        "\n",
        "#Função regular para calcular média\n",
        "def calcular_media(notas):\n",
        "  total = sum(notas)\n",
        "  media = total/len(notas)\n",
        "  return media\n",
        "\n",
        "#Função lambda para arredondar a media para duas casas decimais\n",
        "arredondar_media = lambda media: round(media,2)\n",
        "\n",
        "#Calcular a média\n",
        "media = calcular_media(notas)\n",
        "media_arredondada = arredondar_media(media)\n",
        "\n",
        "#Verificar se os estudantes foram aprovados\n",
        "situacao = 'Aprovado' if media_arredondada >= 7 else 'Reprovado'\n",
        "\n",
        "#Imprimir médias e situação dos estudantes\n",
        "print(f'Olá {nome_aluno}, suas notas foram {notas}, sua média final é {media_arredondada}, e você está {situacao}.')"
      ]
    }
  ]
}